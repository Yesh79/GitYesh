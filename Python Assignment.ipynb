{
 "cells": [
  {
   "cell_type": "code",
   "execution_count": 7,
   "metadata": {},
   "outputs": [
    {
     "name": "stdout",
     "output_type": "stream",
     "text": [
      "Length of S =  327\n"
     ]
    }
   ],
   "source": [
    "# Questions on String\n",
    "# Lets take the following string\n",
    "# \"I am very keen in building up my career in Data Science, but not sure from where to start. \n",
    "# If I search the web it throws me thousands of articles, few are relevant others make me confused, \n",
    "# again I come around to the same page. Supervised has provided me a good platform to remove \n",
    "# all such qualms which were wrangling in my mind\"\n",
    "\n",
    "S = \"I am very keen in building up my career in Data Science, but not sure from where to start. If I search the web it throws me thousands of articles, few are relevant others make me confused, again I come around to the same page. Supervised has provided me a good platform to remove all such qualms which were wrangling in my mind\"\n",
    "print(\"Length of S = \",len(S))"
   ]
  },
  {
   "cell_type": "code",
   "execution_count": 80,
   "metadata": {},
   "outputs": [
    {
     "data": {
      "text/plain": [
       "4.2063492063492065"
      ]
     },
     "execution_count": 80,
     "metadata": {},
     "output_type": "execute_result"
    }
   ],
   "source": [
    "#Consider the above text as a string, figure out the average length of the string.\n",
    "S = \"I am very keen in building up my career in Data Science, but not sure from where to start. If I search the web it throws me thousands of articles, few are relevant others make me confused, again I come around to the same page. Supervised has provided me a good platform to remove all such qualms which were wrangling in my mind\"\n",
    "words = S.split()\n",
    "sum(map(len, words))/len(words)"
   ]
  },
  {
   "cell_type": "code",
   "execution_count": 34,
   "metadata": {},
   "outputs": [
    {
     "data": {
      "text/plain": [
       "'i am very keen in building up my career in data science, but not sure from where to start. if i search the web it throws me thousands of articles, few are relevant others make me confused, again i come around to the same page. supervised has provided me a good platform to remove all such qualms which were wrangling in my mind'"
      ]
     },
     "execution_count": 34,
     "metadata": {},
     "output_type": "execute_result"
    }
   ],
   "source": [
    "#Lower the text in the string.\n",
    "S = \"I am very keen in building up my career in Data Science, but not sure from where to start. If I search the web it throws me thousands of articles, few are relevant others make me confused, again I come around to the same page. Supervised has provided me a good platform to remove all such qualms which were wrangling in my mind\"\n",
    "S.lower()"
   ]
  },
  {
   "cell_type": "code",
   "execution_count": 41,
   "metadata": {},
   "outputs": [
    {
     "data": {
      "text/plain": [
       "'I am very keen in building up my career in Data Science but not sure from where to start If I search the web it throws me thousands of articles few are relevant others make me confused again I come around to the same page Supervised has provided me a good platform to remove all such qualms which were wrangling in my mind'"
      ]
     },
     "execution_count": 41,
     "metadata": {},
     "output_type": "execute_result"
    }
   ],
   "source": [
    "#Try to get the clean text removing the punctuation from the string.\n",
    "import string\n",
    "S = \"I am very keen in building up my career in Data Science, but not sure from where to start. If I search the web it throws me thousands of articles, few are relevant others make me confused, again I come around to the same page. Supervised has provided me a good platform to remove all such qualms which were wrangling in my mind\"\n",
    "S.translate(str.maketrans('', '', string.punctuation))"
   ]
  },
  {
   "cell_type": "code",
   "execution_count": 124,
   "metadata": {},
   "outputs": [
    {
     "data": {
      "text/plain": [
       "['Data Science']"
      ]
     },
     "execution_count": 124,
     "metadata": {},
     "output_type": "execute_result"
    }
   ],
   "source": [
    "#Extract word \"Data Science\" from the string.\n",
    "S = \"I am very keen in building up my career in Data Science, but not sure from where to start. If I search the web it throws me thousands of articles, few are relevant others make me confused, again I come around to the same page. Supervised has provided me a good platform to remove all such qualms which were wrangling in my mind\"\n",
    "re.findall(\"Data Science\", s)"
   ]
  },
  {
   "cell_type": "code",
   "execution_count": 115,
   "metadata": {},
   "outputs": [
    {
     "name": "stdout",
     "output_type": "stream",
     "text": [
      "String\n",
      "I am very keen in building up my career in Data Science, but not sure from where to start. If I search the web it throws me thousands of articles, few are relevant others make me confused, again I come around to the same page. Supervised has provided me a good platform to remove all such qualms which were wrangling in my mind\n",
      "\n",
      "List\n",
      "I am very keen in building up my career in Data Science, but not sure from where to start. If I search the web it throws me thousands of articles, few are relevant others make me confused, again I come around to the same page. Supervised has provided me a good platform to remove all such qualms which were wrangling in my mind\n",
      "\n",
      "Frequencies\n",
      "[3, 1, 1, 1, 3, 1, 1, 2, 1, 3, 1, 1, 1, 1, 1, 1, 1, 3, 1, 1, 3, 1, 2, 1, 1, 1, 3, 1, 1, 1, 1, 1, 1, 1, 1, 3, 1, 1, 3, 1, 1, 3, 2, 1, 1, 1, 1, 1, 3, 1, 1, 1, 3, 1, 1, 1, 1, 1, 1, 1, 3, 2, 1]\n",
      "\n"
     ]
    }
   ],
   "source": [
    "#Find the frequency of words used in the string\n",
    "S = \"I am very keen in building up my career in Data Science, but not sure from where to start. If I search the web it throws me thousands of articles, few are relevant others make me confused, again I come around to the same page. Supervised has provided me a good platform to remove all such qualms which were wrangling in my mind\"\n",
    "\n",
    "wordlist = S.split()\n",
    "\n",
    "wordfreq = []\n",
    "for w in wordlist:\n",
    "    wordfreq.append(wordlist.count(w))\n",
    "\n",
    "print(\"String\\n\" + S +\"\\n\")\n",
    "print(\"List\\n\" + str(S) + \"\\n\")\n",
    "print(\"Frequencies\\n\" + str(wordfreq) + \"\\n\")"
   ]
  },
  {
   "cell_type": "code",
   "execution_count": 84,
   "metadata": {},
   "outputs": [
    {
     "data": {
      "text/plain": [
       "'I am very keen in building up my career in Data Science, but not sure from where to start. If I search the web it throws me thousands of articles, few are relevant others make me confused, again I come around to the same page. Unsupervised has provided me a good platform to remove all such qualms which were wrangling in my mind'"
      ]
     },
     "execution_count": 84,
     "metadata": {},
     "output_type": "execute_result"
    }
   ],
   "source": [
    "#Can you change the word \"Supervised\" to \"Unsupervised\" in the string\n",
    "S = \"I am very keen in building up my career in Data Science, but not sure from where to start. If I search the web it throws me thousands of articles, few are relevant others make me confused, again I come around to the same page. Supervised has provided me a good platform to remove all such qualms which were wrangling in my mind\"\n",
    "S.replace(\"Supervised\", \"Unsupervised\")"
   ]
  },
  {
   "cell_type": "code",
   "execution_count": 85,
   "metadata": {},
   "outputs": [
    {
     "data": {
      "text/plain": [
       "['I am very keen in building up my career in Data Science, but not sure from where to start',\n",
       " ' If I search the web it throws me thousands of articles, few are relevant others make me confused, again I come around to the same page',\n",
       " ' Supervised has provided me a good platform to remove all such qualms which were wrangling in my mind']"
      ]
     },
     "execution_count": 85,
     "metadata": {},
     "output_type": "execute_result"
    }
   ],
   "source": [
    "#Splitting of the string with a dot operator(.)\n",
    "S = \"I am very keen in building up my career in Data Science, but not sure from where to start. If I search the web it throws me thousands of articles, few are relevant others make me confused, again I come around to the same page. Supervised has provided me a good platform to remove all such qualms which were wrangling in my mind\"\n",
    "S.split('.')"
   ]
  },
  {
   "cell_type": "code",
   "execution_count": 111,
   "metadata": {},
   "outputs": [
    {
     "data": {
      "text/plain": [
       "False"
      ]
     },
     "execution_count": 111,
     "metadata": {},
     "output_type": "execute_result"
    }
   ],
   "source": [
    "#Find the words from the string which ends with \"e\"\n",
    "s = \"I am very keen in building up my career in Data Science, but not sure from where to start. If I search the web it throws me thousands of articles, few are relevant others make me confused, again I come around to the same page. Supervised has provided me a good platform to remove all such qualms which were wrangling in my mind\"\n",
    "s.endswith('e')"
   ]
  },
  {
   "cell_type": "code",
   "execution_count": 113,
   "metadata": {},
   "outputs": [
    {
     "data": {
      "text/plain": [
       "22"
      ]
     },
     "execution_count": 113,
     "metadata": {},
     "output_type": "execute_result"
    }
   ],
   "source": [
    "#Figure out number of a's used in the string.\n",
    "s = \"I am very keen in building up my career in Data Science, but not sure from where to start. If I search the web it throws me thousands of articles, few are relevant others make me confused, again I come around to the same page. Supervised has provided me a good platform to remove all such qualms which were wrangling in my mind\"\n",
    "s.count('a')"
   ]
  },
  {
   "cell_type": "markdown",
   "metadata": {},
   "source": [
    "#Questions on Dictionary\n",
    "#In the weekend , I purchased 250g of apple, 500g of sugar, 2.5 kg of rice, 2.5 litres of milk and finally 1 dozen of egg.\n",
    "#Can you help me frame the above purchase in the form of dictionary with commodities as keys to it.\n",
    "Dict = {'apple':'250','sugar':'500','rice':'2500','milk':'2500','egg':'1'}\n",
    "print(Dict)"
   ]
  },
  {
   "cell_type": "code",
   "execution_count": 34,
   "metadata": {},
   "outputs": [
    {
     "name": "stdout",
     "output_type": "stream",
     "text": [
      "250\n"
     ]
    }
   ],
   "source": [
    "print(Dict['apple'])"
   ]
  },
  {
   "cell_type": "code",
   "execution_count": 6,
   "metadata": {},
   "outputs": [
    {
     "name": "stdout",
     "output_type": "stream",
     "text": [
      "{'apple': '250g', 'sugar': '500g', 'rice': '2.5kg', 'milk': '2.5l', 'egg': '1d', 'atta': '1kg'}\n"
     ]
    }
   ],
   "source": [
    "#I forgot to mention another item, 1kg of atta packet. Can you also add it ?\n",
    "Dict.__setitem__('atta','1kg')\n",
    "print(Dict)"
   ]
  },
  {
   "cell_type": "code",
   "execution_count": 26,
   "metadata": {},
   "outputs": [
    {
     "name": "stdout",
     "output_type": "stream",
     "text": [
      "{'apple': '0.25', 'sugar': '0.5', 'rice': '1kg', 'milk': '2.5', 'egg': '1'}\n"
     ]
    }
   ],
   "source": [
    "#Instead of 2kg of rice, I bought only 1kg of rice. Can you change the corresponding value ?\n",
    "Dict.update(rice = '1kg')\n",
    "print(Dict)"
   ]
  },
  {
   "cell_type": "code",
   "execution_count": 37,
   "metadata": {},
   "outputs": [
    {
     "name": "stdout",
     "output_type": "stream",
     "text": [
      "apple\n",
      "sugar\n",
      "rice\n",
      "milk\n",
      "egg\n"
     ]
    }
   ],
   "source": [
    "#Can you list out all these items using a loop.\n",
    "for items in Dict: \n",
    "    print(items)"
   ]
  },
  {
   "cell_type": "code",
   "execution_count": 53,
   "metadata": {},
   "outputs": [
    {
     "name": "stdout",
     "output_type": "stream",
     "text": [
      "{'apple': 220, 'sugar': 43, 'rice': 45, 'milk': 30, 'egg': 60}\n"
     ]
    }
   ],
   "source": [
    "#However, the cost of 1 kg apple is Rs.220, 1 kg of sugar is Rs.43, 1 Kg of rice is Rs. 45, 1 litre of milk is Rs.30 and 1 dozen of egg is Rs. 60.\n",
    "#Create another dictionary for pricing.\n",
    "Price = {'apple':220,'sugar':43,'rice':45,'milk':30,'egg':60}\n",
    "print(Price)"
   ]
  },
  {
   "cell_type": "code",
   "execution_count": 55,
   "metadata": {},
   "outputs": [
    {
     "data": {
      "text/plain": [
       "256.5"
      ]
     },
     "execution_count": 55,
     "metadata": {},
     "output_type": "execute_result"
    }
   ],
   "source": [
    "sum(int(Price[x])*float(Items[x]) for x in Items)"
   ]
  },
  {
   "cell_type": "code",
   "execution_count": 51,
   "metadata": {},
   "outputs": [
    {
     "name": "stdout",
     "output_type": "stream",
     "text": [
      "{'apple': 0.25, 'sugar': 0.5, 'rice': 1, 'milk': 2.5, 'egg': 1}\n"
     ]
    }
   ],
   "source": [
    "Dict1 = {'apple':0.25,'sugar':0.5,'rice':1,'milk':2.5,'egg':1}\n",
    "print(Dict1)"
   ]
  },
  {
   "cell_type": "code",
   "execution_count": 58,
   "metadata": {
    "scrolled": true
   },
   "outputs": [
    {
     "data": {
      "text/plain": [
       "['Amazon',\n",
       " 'Apple',\n",
       " 'Facebook',\n",
       " 'Google',\n",
       " 'HiSilicon',\n",
       " 'Microsoft',\n",
       " 'SenseTime']"
      ]
     },
     "execution_count": 58,
     "metadata": {},
     "output_type": "execute_result"
    }
   ],
   "source": [
    "#Questions on Lists\n",
    "AI_Companies = ['Amazon','Facebook','HiSilicon','Google','Apple','Microsoft','SenseTime']\n",
    "#Sort the list in ascending order\n",
    "AI_Companies.sort()\n",
    "AI_Companies"
   ]
  },
  {
   "cell_type": "code",
   "execution_count": 60,
   "metadata": {},
   "outputs": [
    {
     "data": {
      "text/plain": [
       "['Amazon',\n",
       " 'Apple',\n",
       " 'Facebook',\n",
       " 'Google',\n",
       " 'HiSilicon',\n",
       " 'Microsoft',\n",
       " 'SenseTime',\n",
       " 'Nvidia',\n",
       " 'OpenAI',\n",
       " 'Qualcomm',\n",
       " 'Reliance']"
      ]
     },
     "execution_count": 60,
     "metadata": {},
     "output_type": "execute_result"
    }
   ],
   "source": [
    "#Add multiple companies at once 'Nvidia', 'OpenAI' , 'Qualcomm' and 'Reliance' to the list\n",
    "AI_Companies.extend(['Nvidia','OpenAI','Qualcomm','Reliance'])\n",
    "AI_Companies"
   ]
  },
  {
   "cell_type": "code",
   "execution_count": 61,
   "metadata": {},
   "outputs": [
    {
     "data": {
      "text/plain": [
       "['Amazon',\n",
       " 'Apple',\n",
       " 'Facebook',\n",
       " 'Google',\n",
       " 'HiSilicon',\n",
       " 'Microsoft',\n",
       " 'Nvidia',\n",
       " 'OpenAI',\n",
       " 'Qualcomm',\n",
       " 'Reliance',\n",
       " 'SenseTime']"
      ]
     },
     "execution_count": 61,
     "metadata": {},
     "output_type": "execute_result"
    }
   ],
   "source": [
    "AI_Companies.sort()\n",
    "AI_Companies"
   ]
  },
  {
   "cell_type": "code",
   "execution_count": 74,
   "metadata": {},
   "outputs": [
    {
     "name": "stdout",
     "output_type": "stream",
     "text": [
      "['SenseTime', 'Qualcomm', 'OpenAI', 'Nvidia', 'Microsoft', 'HiSilicon', 'Google', 'Facebook', 'Apple', 'Amazon']\n"
     ]
    }
   ],
   "source": [
    "#Lower the list using List comprehension\n",
    "AI_Companies.sort(reverse = True)\n",
    "print(AI_Companies)"
   ]
  },
  {
   "cell_type": "code",
   "execution_count": 64,
   "metadata": {},
   "outputs": [
    {
     "data": {
      "text/plain": [
       "['Amazon',\n",
       " 'Apple',\n",
       " 'Facebook',\n",
       " 'Google',\n",
       " 'HiSilicon',\n",
       " 'Microsoft',\n",
       " 'Nvidia',\n",
       " 'OpenAI',\n",
       " 'Qualcomm',\n",
       " 'SenseTime']"
      ]
     },
     "execution_count": 64,
     "metadata": {},
     "output_type": "execute_result"
    }
   ],
   "source": [
    "#Elimiate 'Reliance' from the list\n",
    "AI_Companies.remove('Reliance')\n",
    "AI_Companies"
   ]
  },
  {
   "cell_type": "code",
   "execution_count": 81,
   "metadata": {},
   "outputs": [
    {
     "data": {
      "text/plain": [
       "['SenseTime',\n",
       " 'Qualcomm',\n",
       " 'OpenAI',\n",
       " 'Nvidia',\n",
       " 'Microsoft',\n",
       " 'HiSilicon',\n",
       " 'Google',\n",
       " 'Facebook',\n",
       " 'Apple',\n",
       " 'Amazon']"
      ]
     },
     "execution_count": 81,
     "metadata": {},
     "output_type": "execute_result"
    }
   ],
   "source": [
    "#Extract 'Facebook', 'Google' and 'Microsoft' using a single command\n",
    "AI_Companies\n"
   ]
  },
  {
   "cell_type": "code",
   "execution_count": 82,
   "metadata": {},
   "outputs": [
    {
     "data": {
      "text/plain": [
       "{1: 4, 2: 8, 3: 12, 4: 16}"
      ]
     },
     "execution_count": 82,
     "metadata": {},
     "output_type": "execute_result"
    }
   ],
   "source": [
    "D_1 = {c:c*4 for c in [1,2,3,4]}\n",
    "D_1"
   ]
  },
  {
   "cell_type": "code",
   "execution_count": 93,
   "metadata": {},
   "outputs": [
    {
     "name": "stdout",
     "output_type": "stream",
     "text": [
      "('220', '43', '45', '30', '60')\n"
     ]
    }
   ],
   "source": [
    "#Questions on Tuple\n",
    "#(a)Consider the above standard price problem statement and place the prices in the form of the tuple.\n",
    "my_price = (\"220\", \"43\", \"45\", \"30\", \"60\")\n",
    "print (my_price)"
   ]
  },
  {
   "cell_type": "code",
   "execution_count": 94,
   "metadata": {},
   "outputs": [
    {
     "data": {
      "text/plain": [
       "'220'"
      ]
     },
     "execution_count": 94,
     "metadata": {},
     "output_type": "execute_result"
    }
   ],
   "source": [
    "#(b)Find out the min and max price among them.\n",
    "min(my_price)"
   ]
  },
  {
   "cell_type": "code",
   "execution_count": 95,
   "metadata": {},
   "outputs": [
    {
     "data": {
      "text/plain": [
       "'60'"
      ]
     },
     "execution_count": 95,
     "metadata": {},
     "output_type": "execute_result"
    }
   ],
   "source": [
    "max(my_price)"
   ]
  },
  {
   "cell_type": "code",
   "execution_count": 90,
   "metadata": {},
   "outputs": [
    {
     "name": "stdout",
     "output_type": "stream",
     "text": [
      "('Amazon', 'Facebook', 'Nvidia', 'Google', 'Apple', 'Microsoft', 'Qualcomm')\n"
     ]
    }
   ],
   "source": [
    "#(c)Also, convert the above \"AI_companies\" list to a tuple.\n",
    "my_company = (\"Amazon\", \"Facebook\", \"Nvidia\", \"Google\", \"Apple\", \"Microsoft\", \"Qualcomm\")\n",
    "print (my_company)"
   ]
  },
  {
   "cell_type": "code",
   "execution_count": 91,
   "metadata": {},
   "outputs": [
    {
     "data": {
      "text/plain": [
       "'Amazon'"
      ]
     },
     "execution_count": 91,
     "metadata": {},
     "output_type": "execute_result"
    }
   ],
   "source": [
    "min (my_company)"
   ]
  },
  {
   "cell_type": "code",
   "execution_count": 92,
   "metadata": {},
   "outputs": [
    {
     "data": {
      "text/plain": [
       "'Qualcomm'"
      ]
     },
     "execution_count": 92,
     "metadata": {},
     "output_type": "execute_result"
    }
   ],
   "source": [
    "max (my_company)"
   ]
  },
  {
   "cell_type": "code",
   "execution_count": 96,
   "metadata": {},
   "outputs": [
    {
     "data": {
      "text/plain": [
       "('220',\n",
       " '43',\n",
       " '45',\n",
       " '30',\n",
       " '60',\n",
       " 'Amazon',\n",
       " 'Facebook',\n",
       " 'Nvidia',\n",
       " 'Google',\n",
       " 'Apple',\n",
       " 'Microsoft',\n",
       " 'Qualcomm')"
      ]
     },
     "execution_count": 96,
     "metadata": {},
     "output_type": "execute_result"
    }
   ],
   "source": [
    "#(d)Combine two above tuples to a single tuple.\n",
    "my_price + my_company"
   ]
  },
  {
   "cell_type": "code",
   "execution_count": 97,
   "metadata": {},
   "outputs": [
    {
     "data": {
      "text/plain": [
       "5"
      ]
     },
     "execution_count": 97,
     "metadata": {},
     "output_type": "execute_result"
    }
   ],
   "source": [
    "#(e)Compare the length of two tuples.\n",
    "len (my_price)"
   ]
  },
  {
   "cell_type": "code",
   "execution_count": 98,
   "metadata": {},
   "outputs": [
    {
     "data": {
      "text/plain": [
       "7"
      ]
     },
     "execution_count": 98,
     "metadata": {},
     "output_type": "execute_result"
    }
   ],
   "source": [
    "len (my_company)"
   ]
  },
  {
   "cell_type": "code",
   "execution_count": 99,
   "metadata": {},
   "outputs": [
    {
     "name": "stdout",
     "output_type": "stream",
     "text": [
      "b is bigger\n"
     ]
    }
   ],
   "source": [
    "#(e)Compare the length of two tuples.\n",
    "a = my_price\n",
    "b = my_company\n",
    "if (a>b):print(\"a is bigger\")\n",
    "else: print (\"b is bigger\")"
   ]
  },
  {
   "cell_type": "code",
   "execution_count": null,
   "metadata": {},
   "outputs": [],
   "source": []
  }
 ],
 "metadata": {
  "kernelspec": {
   "display_name": "Python 3",
   "language": "python",
   "name": "python3"
  },
  "language_info": {
   "codemirror_mode": {
    "name": "ipython",
    "version": 3
   },
   "file_extension": ".py",
   "mimetype": "text/x-python",
   "name": "python",
   "nbconvert_exporter": "python",
   "pygments_lexer": "ipython3",
   "version": "3.7.3"
  }
 },
 "nbformat": 4,
 "nbformat_minor": 2
}
